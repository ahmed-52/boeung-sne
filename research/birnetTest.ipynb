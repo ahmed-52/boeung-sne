{
 "cells": [
  {
   "cell_type": "code",
   "execution_count": 13,
   "id": "888c95c0",
   "metadata": {},
   "outputs": [
    {
     "name": "stdout",
     "output_type": "stream",
     "text": [
      "Anastomus oscitans_Asian Openbill: 0.983\n",
      "Ortalis motmot_Variable Chachalaca: 0.341\n"
     ]
    },
    {
     "data": {
      "image/png": "[encoded data removed]",
      "text/plain": [
       "<Figure size 1000x600 with 1 Axes>"
      ]
     },
     "metadata": {},
     "output_type": "display_data"
    }
   ],
   "source": [
    "import numpy as np\n",
    "import soundfile as sf\n",
    "import librosa\n",
    "import matplotlib.pyplot as plt\n",
    "from tensorflow.lite.python.interpreter import Interpreter\n",
    "import noisereduce as nr\n",
    "\n",
    "\n",
    "\n",
    "def load_birdnet_model(model_path=\"models/birdnet/audio-model.tflite\"):\n",
    "    interpreter = Interpreter(model_path=model_path)\n",
    "    interpreter.allocate_tensors()\n",
    "    return interpreter\n",
    "\n",
    "def load_labels(labels_path=\"models/birdnet/labels/en_us.txt\"):\n",
    "    with open(labels_path, \"r\", encoding=\"utf-8\") as f:\n",
    "        return [line.strip() for line in f if line.strip()]\n",
    "\n",
    "\n",
    "\n",
    "def preprocess_audio(audio_path, target_sr=48000):\n",
    "    \"\"\"Load, convert to mono, resample to 48 kHz, and normalize\"\"\"\n",
    "    # load audio\n",
    "    y, sr = sf.read(audio_path, dtype=\"float32\")\n",
    "\n",
    "    # convert stereo to mono\n",
    "    if y.ndim > 1:\n",
    "        y = np.mean(y, axis=1)\n",
    "\n",
    "    # resample if needed\n",
    "    if sr != target_sr:\n",
    "        y = librosa.resample(y, orig_sr=sr, target_sr=target_sr)\n",
    "\n",
    "    # Normalize to -1..1 range\n",
    "    if np.max(np.abs(y)) > 0:\n",
    "        y = y / np.max(np.abs(y))\n",
    "\n",
    "    return y.astype(\"float32\")\n",
    "\n",
    "# \n",
    "def predict_chunk(interpreter, chunk, labels, min_conf=0.1):\n",
    "    \"\"\"Run inference on one 3s chunk\"\"\"\n",
    "    input_details = interpreter.get_input_details()\n",
    "    output_details = interpreter.get_output_details()\n",
    "\n",
    "    # padding or trim the audio chunk\n",
    "    expected_len = input_details[0][\"shape\"][1]\n",
    "    if len(chunk) < expected_len:\n",
    "        chunk = np.pad(chunk, (0, expected_len - len(chunk)))\n",
    "    else:\n",
    "        chunk = chunk[:expected_len]\n",
    "\n",
    "    # running the inference\n",
    "    interpreter.set_tensor(input_details[0][\"index\"], chunk[None, :])\n",
    "    interpreter.invoke()\n",
    "    logits = interpreter.get_tensor(output_details[0][\"index\"])[0]\n",
    "    probs = 1 / (1 + np.exp(-logits))\n",
    "    \n",
    "    results = [(labels[i], probs[i]) for i in range(len(probs)) if probs[i] >= min_conf]\n",
    "    return sorted(results, key=lambda x: x[1], reverse=True)\n",
    "\n",
    "\n",
    "\n",
    "def predict_species(interpreter, audio, labels, chunk_size=3*32000, min_conf=0.1):\n",
    "    \"\"\"Process entire clip in 3s chunks and average predictions\"\"\"\n",
    "    scores = {}\n",
    "    for i in range(0, len(audio), chunk_size):\n",
    "        chunk = audio[i:i+chunk_size]\n",
    "        preds = predict_chunk(interpreter, chunk, labels, min_conf=min_conf)\n",
    "        for label, score in preds:\n",
    "            scores[label] = scores.get(label, []) + [score]\n",
    "\n",
    "    averaged = [(label, np.mean(vals)) for label, vals in scores.items()]\n",
    "    return sorted(averaged, key=lambda x: x[1], reverse=True)[:10]\n",
    "\n",
    "\n",
    "\n",
    "def plot_predictions(predictions, filename=\"birdnet_results.png\"):\n",
    "    species, scores = zip(*predictions)\n",
    "    plt.figure(figsize=(10, 6))\n",
    "    bars = plt.barh(species[::-1], [s * 100 for s in scores[::-1]], color=\"#1f77b4\")\n",
    "    plt.xlabel(\"Confidence (%)\", fontsize=12, fontweight=\"bold\")\n",
    "    plt.title(\"Top Detected Bird Species\", fontsize=14, fontweight=\"bold\")\n",
    "    for bar, score in zip(bars, scores[::-1]):\n",
    "        plt.text(score * 100, bar.get_y() + bar.get_height()/2, f\"{score*100:.1f}%\",\n",
    "                 va='center', ha='left', fontsize=10)\n",
    "    plt.tight_layout()\n",
    "    plt.savefig(filename, dpi=300)\n",
    "    plt.show()\n",
    "\n",
    "\n",
    "interpreter = load_birdnet_model()\n",
    "labels = load_labels()\n",
    "audio = preprocess_audio(\"asianopen.wav\")\n",
    "\n",
    "results = predict_species(interpreter, audio, labels, min_conf=0.2)\n",
    "for label, score in results:\n",
    "    print(f\"{label}: {score:.3f}\")\n",
    "plot_predictions(results)\n",
    "\n"
   ]
  },
  {
   "cell_type": "code",
   "execution_count": null,
   "id": "43f1c783",
   "metadata": {},
   "outputs": [],
   "source": []
  },
  {
   "cell_type": "code",
   "execution_count": null,
   "id": "d96e834b",
   "metadata": {},
   "outputs": [],
   "source": []
  }
 ],
 "metadata": {
  "kernelspec": {
   "display_name": "birdc",
   "language": "python",
   "name": "python3"
  },
  "language_info": {
   "codemirror_mode": {
    "name": "ipython",
    "version": 3
   },
   "file_extension": ".py",
   "mimetype": "text/x-python",
   "name": "python",
   "nbconvert_exporter": "python",
   "pygments_lexer": "ipython3",
   "version": "3.9.6"
  }
 },
 "nbformat": 4,
 "nbformat_minor": 5
}
